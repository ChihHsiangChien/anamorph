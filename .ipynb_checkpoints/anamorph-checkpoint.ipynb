{
 "cells": [
  {
   "cell_type": "code",
   "execution_count": 157,
   "id": "burning-france",
   "metadata": {},
   "outputs": [
    {
     "data": {
      "image/png": "[encoded data removed]",
      "text/plain": [
       "<Figure size 432x288 with 1 Axes>"
      ]
     },
     "metadata": {
      "needs_background": "light"
     },
     "output_type": "display_data"
    }
   ],
   "source": [
    "import numpy as np\n",
    "import matplotlib.pyplot as plt\n",
    "from scipy.ndimage import map_coordinates\n",
    "\n",
    "# Load the image\n",
    "image = plt.imread('face.jpg')\n",
    "\n",
    "center_y_offset = 50 # 原影像的polar coordinate 中心y\n",
    "\n",
    "r0 = 100 #新影像的\n",
    "r1 = 100\n",
    "\n",
    "# Get image dimensions\n",
    "ny, nx = image.shape[:2]\n",
    "\n",
    "# Define center\n",
    "cx, cy = nx/2, ny + center_y_offset\n",
    "\n",
    "# Create meshgrid of coordinates\n",
    "x = np.linspace(0, nx-1, nx)\n",
    "y = np.linspace(0, ny-1, ny)\n",
    "xx, yy = np.meshgrid(x, y)\n",
    "\n",
    "# Calculate polar coordinates\n",
    "r = np.sqrt((xx - cx)**2 + (yy - cy)**2)\n",
    "theta = np.arctan2(xx - cx, yy - cy)\n",
    "\n",
    "\n",
    "\n",
    "\n",
    "# Adjust the radius r to create a new transformation\n",
    "newR = r[-1, :] + (ny - yy) / ny * r1\n",
    "\n",
    "# Define newTheta and r1 for mapping\n",
    "newTheta = np.tile(np.linspace(-np.pi, 0, nx), (ny, 1))\n",
    "\n",
    "\n",
    "newCX = 0\n",
    "newCY = 0\n",
    "# Map polar coordinates back to Cartesian for interpolation\n",
    "xx_polar = newCX + newR * np.cos(newTheta)\n",
    "yy_polar = newCY + newR * np.sin(newTheta)\n",
    "\n",
    "\n",
    "\n",
    "# Flatten arrays for scatter plot\n",
    "# xx_polar_flat = xx_polar.flatten()\n",
    "# yy_polar_flat = yy_polar.flatten()\n",
    "\n",
    "\n",
    "\n",
    "# Plot scatter plot\n",
    "#plt.scatter(xx_polar_flat, yy_polar_flat, s=1)  # `s=1` to set the marker size\n",
    "#plt.scatter(np.arange(nx),yy_polar[1])\n",
    "#plt.ylim(np.min(yy_polar[1]), np.max(yy_polar[1]))\n",
    "#plt.show()\n",
    "\n",
    "    \n",
    "\n",
    "\n"
   ]
  },
  {
   "cell_type": "code",
   "execution_count": 156,
   "id": "european-canberra",
   "metadata": {},
   "outputs": [
    {
     "name": "stdout",
     "output_type": "stream",
     "text": [
      "[[0 1 2]\n",
      " [0 1 2]]\n"
     ]
    }
   ],
   "source": [
    "a = np.array([0, 1, 2])\n",
    "b = np.tile(a,(2,1))\n",
    "print(b)"
   ]
  },
  {
   "cell_type": "code",
   "execution_count": null,
   "id": "industrial-immigration",
   "metadata": {},
   "outputs": [],
   "source": []
  }
 ],
 "metadata": {
  "kernelspec": {
   "display_name": "Python 3",
   "language": "python",
   "name": "python3"
  },
  "language_info": {
   "codemirror_mode": {
    "name": "ipython",
    "version": 3
   },
   "file_extension": ".py",
   "mimetype": "text/x-python",
   "name": "python",
   "nbconvert_exporter": "python",
   "pygments_lexer": "ipython3",
   "version": "3.8.10"
  }
 },
 "nbformat": 4,
 "nbformat_minor": 5
}
